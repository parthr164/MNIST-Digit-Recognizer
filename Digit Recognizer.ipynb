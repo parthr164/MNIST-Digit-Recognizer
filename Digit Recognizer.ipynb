{
 "cells": [
  {
   "cell_type": "code",
   "execution_count": 1,
   "metadata": {},
   "outputs": [
    {
     "name": "stderr",
     "output_type": "stream",
     "text": [
      "C:\\Users\\admin\\Anaconda3\\envs\\tensorflow\\lib\\site-packages\\ipykernel\\parentpoller.py:116: UserWarning: Parent poll failed.  If the frontend dies,\n",
      "                the kernel may be left running.  Please let us know\n",
      "                about your system (bitness, Python, etc.) at\n",
      "                ipython-dev@scipy.org\n",
      "  ipython-dev@scipy.org\"\"\")\n"
     ]
    }
   ],
   "source": [
    "import numpy as np\n",
    "import matplotlib.pyplot as plt\n",
    "import pandas as pd\n",
    "import seaborn as sns\n",
    "import tensorflow as tf"
   ]
  },
  {
   "cell_type": "code",
   "execution_count": 2,
   "metadata": {},
   "outputs": [],
   "source": [
    "train = pd.read_csv(\"train.csv\")\n",
    "test = pd.read_csv(\"test.csv\")"
   ]
  },
  {
   "cell_type": "code",
   "execution_count": 3,
   "metadata": {},
   "outputs": [
    {
     "data": {
      "text/html": [
       "<div>\n",
       "<style scoped>\n",
       "    .dataframe tbody tr th:only-of-type {\n",
       "        vertical-align: middle;\n",
       "    }\n",
       "\n",
       "    .dataframe tbody tr th {\n",
       "        vertical-align: top;\n",
       "    }\n",
       "\n",
       "    .dataframe thead th {\n",
       "        text-align: right;\n",
       "    }\n",
       "</style>\n",
       "<table border=\"1\" class=\"dataframe\">\n",
       "  <thead>\n",
       "    <tr style=\"text-align: right;\">\n",
       "      <th></th>\n",
       "      <th>label</th>\n",
       "      <th>pixel0</th>\n",
       "      <th>pixel1</th>\n",
       "      <th>pixel2</th>\n",
       "      <th>pixel3</th>\n",
       "      <th>pixel4</th>\n",
       "      <th>pixel5</th>\n",
       "      <th>pixel6</th>\n",
       "      <th>pixel7</th>\n",
       "      <th>pixel8</th>\n",
       "      <th>...</th>\n",
       "      <th>pixel774</th>\n",
       "      <th>pixel775</th>\n",
       "      <th>pixel776</th>\n",
       "      <th>pixel777</th>\n",
       "      <th>pixel778</th>\n",
       "      <th>pixel779</th>\n",
       "      <th>pixel780</th>\n",
       "      <th>pixel781</th>\n",
       "      <th>pixel782</th>\n",
       "      <th>pixel783</th>\n",
       "    </tr>\n",
       "  </thead>\n",
       "  <tbody>\n",
       "    <tr>\n",
       "      <td>0</td>\n",
       "      <td>1</td>\n",
       "      <td>0</td>\n",
       "      <td>0</td>\n",
       "      <td>0</td>\n",
       "      <td>0</td>\n",
       "      <td>0</td>\n",
       "      <td>0</td>\n",
       "      <td>0</td>\n",
       "      <td>0</td>\n",
       "      <td>0</td>\n",
       "      <td>...</td>\n",
       "      <td>0</td>\n",
       "      <td>0</td>\n",
       "      <td>0</td>\n",
       "      <td>0</td>\n",
       "      <td>0</td>\n",
       "      <td>0</td>\n",
       "      <td>0</td>\n",
       "      <td>0</td>\n",
       "      <td>0</td>\n",
       "      <td>0</td>\n",
       "    </tr>\n",
       "    <tr>\n",
       "      <td>1</td>\n",
       "      <td>0</td>\n",
       "      <td>0</td>\n",
       "      <td>0</td>\n",
       "      <td>0</td>\n",
       "      <td>0</td>\n",
       "      <td>0</td>\n",
       "      <td>0</td>\n",
       "      <td>0</td>\n",
       "      <td>0</td>\n",
       "      <td>0</td>\n",
       "      <td>...</td>\n",
       "      <td>0</td>\n",
       "      <td>0</td>\n",
       "      <td>0</td>\n",
       "      <td>0</td>\n",
       "      <td>0</td>\n",
       "      <td>0</td>\n",
       "      <td>0</td>\n",
       "      <td>0</td>\n",
       "      <td>0</td>\n",
       "      <td>0</td>\n",
       "    </tr>\n",
       "    <tr>\n",
       "      <td>2</td>\n",
       "      <td>1</td>\n",
       "      <td>0</td>\n",
       "      <td>0</td>\n",
       "      <td>0</td>\n",
       "      <td>0</td>\n",
       "      <td>0</td>\n",
       "      <td>0</td>\n",
       "      <td>0</td>\n",
       "      <td>0</td>\n",
       "      <td>0</td>\n",
       "      <td>...</td>\n",
       "      <td>0</td>\n",
       "      <td>0</td>\n",
       "      <td>0</td>\n",
       "      <td>0</td>\n",
       "      <td>0</td>\n",
       "      <td>0</td>\n",
       "      <td>0</td>\n",
       "      <td>0</td>\n",
       "      <td>0</td>\n",
       "      <td>0</td>\n",
       "    </tr>\n",
       "    <tr>\n",
       "      <td>3</td>\n",
       "      <td>4</td>\n",
       "      <td>0</td>\n",
       "      <td>0</td>\n",
       "      <td>0</td>\n",
       "      <td>0</td>\n",
       "      <td>0</td>\n",
       "      <td>0</td>\n",
       "      <td>0</td>\n",
       "      <td>0</td>\n",
       "      <td>0</td>\n",
       "      <td>...</td>\n",
       "      <td>0</td>\n",
       "      <td>0</td>\n",
       "      <td>0</td>\n",
       "      <td>0</td>\n",
       "      <td>0</td>\n",
       "      <td>0</td>\n",
       "      <td>0</td>\n",
       "      <td>0</td>\n",
       "      <td>0</td>\n",
       "      <td>0</td>\n",
       "    </tr>\n",
       "    <tr>\n",
       "      <td>4</td>\n",
       "      <td>0</td>\n",
       "      <td>0</td>\n",
       "      <td>0</td>\n",
       "      <td>0</td>\n",
       "      <td>0</td>\n",
       "      <td>0</td>\n",
       "      <td>0</td>\n",
       "      <td>0</td>\n",
       "      <td>0</td>\n",
       "      <td>0</td>\n",
       "      <td>...</td>\n",
       "      <td>0</td>\n",
       "      <td>0</td>\n",
       "      <td>0</td>\n",
       "      <td>0</td>\n",
       "      <td>0</td>\n",
       "      <td>0</td>\n",
       "      <td>0</td>\n",
       "      <td>0</td>\n",
       "      <td>0</td>\n",
       "      <td>0</td>\n",
       "    </tr>\n",
       "  </tbody>\n",
       "</table>\n",
       "<p>5 rows × 785 columns</p>\n",
       "</div>"
      ],
      "text/plain": [
       "   label  pixel0  pixel1  pixel2  pixel3  pixel4  pixel5  pixel6  pixel7  \\\n",
       "0      1       0       0       0       0       0       0       0       0   \n",
       "1      0       0       0       0       0       0       0       0       0   \n",
       "2      1       0       0       0       0       0       0       0       0   \n",
       "3      4       0       0       0       0       0       0       0       0   \n",
       "4      0       0       0       0       0       0       0       0       0   \n",
       "\n",
       "   pixel8  ...  pixel774  pixel775  pixel776  pixel777  pixel778  pixel779  \\\n",
       "0       0  ...         0         0         0         0         0         0   \n",
       "1       0  ...         0         0         0         0         0         0   \n",
       "2       0  ...         0         0         0         0         0         0   \n",
       "3       0  ...         0         0         0         0         0         0   \n",
       "4       0  ...         0         0         0         0         0         0   \n",
       "\n",
       "   pixel780  pixel781  pixel782  pixel783  \n",
       "0         0         0         0         0  \n",
       "1         0         0         0         0  \n",
       "2         0         0         0         0  \n",
       "3         0         0         0         0  \n",
       "4         0         0         0         0  \n",
       "\n",
       "[5 rows x 785 columns]"
      ]
     },
     "execution_count": 3,
     "metadata": {},
     "output_type": "execute_result"
    }
   ],
   "source": [
    "train.head()"
   ]
  },
  {
   "cell_type": "code",
   "execution_count": 4,
   "metadata": {},
   "outputs": [],
   "source": [
    "train_X = train.drop(labels = 'label', axis = 1)\n",
    "train_Y = train['label']"
   ]
  },
  {
   "cell_type": "code",
   "execution_count": 5,
   "metadata": {},
   "outputs": [
    {
     "data": {
      "text/html": [
       "<div>\n",
       "<style scoped>\n",
       "    .dataframe tbody tr th:only-of-type {\n",
       "        vertical-align: middle;\n",
       "    }\n",
       "\n",
       "    .dataframe tbody tr th {\n",
       "        vertical-align: top;\n",
       "    }\n",
       "\n",
       "    .dataframe thead th {\n",
       "        text-align: right;\n",
       "    }\n",
       "</style>\n",
       "<table border=\"1\" class=\"dataframe\">\n",
       "  <thead>\n",
       "    <tr style=\"text-align: right;\">\n",
       "      <th></th>\n",
       "      <th>pixel0</th>\n",
       "      <th>pixel1</th>\n",
       "      <th>pixel2</th>\n",
       "      <th>pixel3</th>\n",
       "      <th>pixel4</th>\n",
       "      <th>pixel5</th>\n",
       "      <th>pixel6</th>\n",
       "      <th>pixel7</th>\n",
       "      <th>pixel8</th>\n",
       "      <th>pixel9</th>\n",
       "      <th>...</th>\n",
       "      <th>pixel774</th>\n",
       "      <th>pixel775</th>\n",
       "      <th>pixel776</th>\n",
       "      <th>pixel777</th>\n",
       "      <th>pixel778</th>\n",
       "      <th>pixel779</th>\n",
       "      <th>pixel780</th>\n",
       "      <th>pixel781</th>\n",
       "      <th>pixel782</th>\n",
       "      <th>pixel783</th>\n",
       "    </tr>\n",
       "  </thead>\n",
       "  <tbody>\n",
       "    <tr>\n",
       "      <td>0</td>\n",
       "      <td>0</td>\n",
       "      <td>0</td>\n",
       "      <td>0</td>\n",
       "      <td>0</td>\n",
       "      <td>0</td>\n",
       "      <td>0</td>\n",
       "      <td>0</td>\n",
       "      <td>0</td>\n",
       "      <td>0</td>\n",
       "      <td>0</td>\n",
       "      <td>...</td>\n",
       "      <td>0</td>\n",
       "      <td>0</td>\n",
       "      <td>0</td>\n",
       "      <td>0</td>\n",
       "      <td>0</td>\n",
       "      <td>0</td>\n",
       "      <td>0</td>\n",
       "      <td>0</td>\n",
       "      <td>0</td>\n",
       "      <td>0</td>\n",
       "    </tr>\n",
       "    <tr>\n",
       "      <td>1</td>\n",
       "      <td>0</td>\n",
       "      <td>0</td>\n",
       "      <td>0</td>\n",
       "      <td>0</td>\n",
       "      <td>0</td>\n",
       "      <td>0</td>\n",
       "      <td>0</td>\n",
       "      <td>0</td>\n",
       "      <td>0</td>\n",
       "      <td>0</td>\n",
       "      <td>...</td>\n",
       "      <td>0</td>\n",
       "      <td>0</td>\n",
       "      <td>0</td>\n",
       "      <td>0</td>\n",
       "      <td>0</td>\n",
       "      <td>0</td>\n",
       "      <td>0</td>\n",
       "      <td>0</td>\n",
       "      <td>0</td>\n",
       "      <td>0</td>\n",
       "    </tr>\n",
       "    <tr>\n",
       "      <td>2</td>\n",
       "      <td>0</td>\n",
       "      <td>0</td>\n",
       "      <td>0</td>\n",
       "      <td>0</td>\n",
       "      <td>0</td>\n",
       "      <td>0</td>\n",
       "      <td>0</td>\n",
       "      <td>0</td>\n",
       "      <td>0</td>\n",
       "      <td>0</td>\n",
       "      <td>...</td>\n",
       "      <td>0</td>\n",
       "      <td>0</td>\n",
       "      <td>0</td>\n",
       "      <td>0</td>\n",
       "      <td>0</td>\n",
       "      <td>0</td>\n",
       "      <td>0</td>\n",
       "      <td>0</td>\n",
       "      <td>0</td>\n",
       "      <td>0</td>\n",
       "    </tr>\n",
       "    <tr>\n",
       "      <td>3</td>\n",
       "      <td>0</td>\n",
       "      <td>0</td>\n",
       "      <td>0</td>\n",
       "      <td>0</td>\n",
       "      <td>0</td>\n",
       "      <td>0</td>\n",
       "      <td>0</td>\n",
       "      <td>0</td>\n",
       "      <td>0</td>\n",
       "      <td>0</td>\n",
       "      <td>...</td>\n",
       "      <td>0</td>\n",
       "      <td>0</td>\n",
       "      <td>0</td>\n",
       "      <td>0</td>\n",
       "      <td>0</td>\n",
       "      <td>0</td>\n",
       "      <td>0</td>\n",
       "      <td>0</td>\n",
       "      <td>0</td>\n",
       "      <td>0</td>\n",
       "    </tr>\n",
       "    <tr>\n",
       "      <td>4</td>\n",
       "      <td>0</td>\n",
       "      <td>0</td>\n",
       "      <td>0</td>\n",
       "      <td>0</td>\n",
       "      <td>0</td>\n",
       "      <td>0</td>\n",
       "      <td>0</td>\n",
       "      <td>0</td>\n",
       "      <td>0</td>\n",
       "      <td>0</td>\n",
       "      <td>...</td>\n",
       "      <td>0</td>\n",
       "      <td>0</td>\n",
       "      <td>0</td>\n",
       "      <td>0</td>\n",
       "      <td>0</td>\n",
       "      <td>0</td>\n",
       "      <td>0</td>\n",
       "      <td>0</td>\n",
       "      <td>0</td>\n",
       "      <td>0</td>\n",
       "    </tr>\n",
       "  </tbody>\n",
       "</table>\n",
       "<p>5 rows × 784 columns</p>\n",
       "</div>"
      ],
      "text/plain": [
       "   pixel0  pixel1  pixel2  pixel3  pixel4  pixel5  pixel6  pixel7  pixel8  \\\n",
       "0       0       0       0       0       0       0       0       0       0   \n",
       "1       0       0       0       0       0       0       0       0       0   \n",
       "2       0       0       0       0       0       0       0       0       0   \n",
       "3       0       0       0       0       0       0       0       0       0   \n",
       "4       0       0       0       0       0       0       0       0       0   \n",
       "\n",
       "   pixel9  ...  pixel774  pixel775  pixel776  pixel777  pixel778  pixel779  \\\n",
       "0       0  ...         0         0         0         0         0         0   \n",
       "1       0  ...         0         0         0         0         0         0   \n",
       "2       0  ...         0         0         0         0         0         0   \n",
       "3       0  ...         0         0         0         0         0         0   \n",
       "4       0  ...         0         0         0         0         0         0   \n",
       "\n",
       "   pixel780  pixel781  pixel782  pixel783  \n",
       "0         0         0         0         0  \n",
       "1         0         0         0         0  \n",
       "2         0         0         0         0  \n",
       "3         0         0         0         0  \n",
       "4         0         0         0         0  \n",
       "\n",
       "[5 rows x 784 columns]"
      ]
     },
     "execution_count": 5,
     "metadata": {},
     "output_type": "execute_result"
    }
   ],
   "source": [
    "train_X.head()"
   ]
  },
  {
   "cell_type": "code",
   "execution_count": null,
   "metadata": {},
   "outputs": [],
   "source": []
  },
  {
   "cell_type": "code",
   "execution_count": 6,
   "metadata": {},
   "outputs": [
    {
     "name": "stdout",
     "output_type": "stream",
     "text": [
      "(42000, 784)\n",
      "(28000, 784)\n"
     ]
    }
   ],
   "source": [
    "print(train_X.shape)\n",
    "print(test.shape)"
   ]
  },
  {
   "cell_type": "code",
   "execution_count": 7,
   "metadata": {},
   "outputs": [],
   "source": [
    "train_X = train_X.values.reshape(42000,28,28,1)\n",
    "test = test.values.reshape(28000, 28,28,1)\n",
    "train_Y = train_Y.values.reshape(42000,1)"
   ]
  },
  {
   "cell_type": "code",
   "execution_count": 8,
   "metadata": {},
   "outputs": [
    {
     "name": "stdout",
     "output_type": "stream",
     "text": [
      "(42000, 28, 28, 1)\n",
      "(42000, 1)\n"
     ]
    }
   ],
   "source": [
    "print(train_X.shape)\n",
    "print(train_Y.shape)"
   ]
  },
  {
   "cell_type": "code",
   "execution_count": 9,
   "metadata": {},
   "outputs": [
    {
     "data": {
      "text/plain": [
       "array([[1],\n",
       "       [0],\n",
       "       [1],\n",
       "       ...,\n",
       "       [7],\n",
       "       [6],\n",
       "       [9]], dtype=int64)"
      ]
     },
     "execution_count": 9,
     "metadata": {},
     "output_type": "execute_result"
    }
   ],
   "source": [
    "train_Y"
   ]
  },
  {
   "cell_type": "raw",
   "metadata": {},
   "source": []
  },
  {
   "cell_type": "raw",
   "metadata": {},
   "source": []
  },
  {
   "cell_type": "code",
   "execution_count": 10,
   "metadata": {},
   "outputs": [
    {
     "data": {
      "text/plain": [
       "<matplotlib.image.AxesImage at 0x1efd71c55c8>"
      ]
     },
     "execution_count": 10,
     "metadata": {},
     "output_type": "execute_result"
    },
    {
     "data": {
      "image/png": "[encoded data removed]",
      "text/plain": [
       "<Figure size 432x288 with 1 Axes>"
      ]
     },
     "metadata": {},
     "output_type": "display_data"
    }
   ],
   "source": [
    "sns.set(style='white', context='notebook', palette='deep')\n",
    "index = 100\n",
    "plt.imshow(train_X[index][:,:,0], cmap = 'gray')\n",
    "#plt.title(\"y = \", train_Y.item(index))"
   ]
  },
  {
   "cell_type": "code",
   "execution_count": 11,
   "metadata": {},
   "outputs": [],
   "source": [
    "train_X = train_X/255\n",
    "test = test/255"
   ]
  },
  {
   "cell_type": "code",
   "execution_count": 12,
   "metadata": {},
   "outputs": [
    {
     "name": "stderr",
     "output_type": "stream",
     "text": [
      "C:\\Users\\admin\\Anaconda3\\envs\\tensorflow\\lib\\site-packages\\sklearn\\preprocessing\\_encoders.py:415: FutureWarning: The handling of integer data will change in version 0.22. Currently, the categories are determined based on the range [0, max(values)], while in the future they will be determined based on the unique values.\n",
      "If you want the future behaviour and silence this warning, you can specify \"categories='auto'\".\n",
      "In case you used a LabelEncoder before this OneHotEncoder to convert the categories to integers, then you can now use the OneHotEncoder directly.\n",
      "  warnings.warn(msg, FutureWarning)\n"
     ]
    }
   ],
   "source": [
    "from sklearn.preprocessing import OneHotEncoder\n",
    "\n",
    "onh = OneHotEncoder()\n",
    "train_Y = onh.fit_transform(train_Y).toarray()"
   ]
  },
  {
   "cell_type": "code",
   "execution_count": 13,
   "metadata": {},
   "outputs": [
    {
     "data": {
      "text/plain": [
       "(42000, 10)"
      ]
     },
     "execution_count": 13,
     "metadata": {},
     "output_type": "execute_result"
    }
   ],
   "source": [
    "train_Y.shape"
   ]
  },
  {
   "cell_type": "code",
   "execution_count": 14,
   "metadata": {},
   "outputs": [],
   "source": [
    "#Test/train split\n",
    "from sklearn.model_selection import train_test_split\n",
    "\n",
    "X = train_X\n",
    "Y = train_Y\n",
    "random_seed = 2\n",
    "train_X, val_X, train_Y, val_Y = train_test_split(train_X, train_Y, test_size = 0.1, random_state=random_seed)"
   ]
  },
  {
   "cell_type": "code",
   "execution_count": 15,
   "metadata": {},
   "outputs": [],
   "source": [
    "from tensorflow.keras.models import Sequential\n",
    "from tensorflow.keras.layers import Conv2D, Activation, Dense, Flatten, MaxPooling2D, Dropout\n",
    "from tensorflow.keras.layers import BatchNormalization"
   ]
  },
  {
   "cell_type": "code",
   "execution_count": 18,
   "metadata": {},
   "outputs": [],
   "source": [
    "#Setting up our model\n",
    "#Model 1\n",
    "#Submission 1\n",
    "model = Sequential([\n",
    "    Conv2D(filters = 32, kernel_size = (4,4), activation = \"relu\", strides = (1,1), padding = \"same\", input_shape = (28, 28, 1)),\n",
    "    MaxPooling2D(pool_size = (2,2), padding = \"same\"),\n",
    "    Conv2D(filters = 64, kernel_size = (2,2), activation = \"relu\", strides = (1,1), padding = \"same\"),\n",
    "    MaxPooling2D(pool_size = (2,2), strides = (2,2)),\n",
    "    Flatten(),\n",
    "    Dense(64, activation = \"relu\"),\n",
    "    Dense(10, activation = \"softmax\"),\n",
    "])"
   ]
  },
  {
   "cell_type": "code",
   "execution_count": 19,
   "metadata": {},
   "outputs": [],
   "source": [
    "model.compile(optimizer = \"adam\", loss = \"categorical_crossentropy\", metrics = [\"accuracy\"])"
   ]
  },
  {
   "cell_type": "code",
   "execution_count": 20,
   "metadata": {},
   "outputs": [
    {
     "name": "stdout",
     "output_type": "stream",
     "text": [
      "Train on 37800 samples, validate on 4200 samples\n",
      "Epoch 1/20\n",
      "37800/37800 [==============================] - 76s 2ms/sample - loss: 0.1795 - accuracy: 0.9455 - val_loss: 0.0781 - val_accuracy: 0.9750\n",
      "Epoch 2/20\n",
      "37800/37800 [==============================] - 56s 1ms/sample - loss: 0.0553 - accuracy: 0.9837 - val_loss: 0.0624 - val_accuracy: 0.9814\n",
      "Epoch 3/20\n",
      "37800/37800 [==============================] - 56s 1ms/sample - loss: 0.0398 - accuracy: 0.9875 - val_loss: 0.0490 - val_accuracy: 0.9845\n",
      "Epoch 4/20\n",
      "37800/37800 [==============================] - 56s 1ms/sample - loss: 0.0303 - accuracy: 0.9905 - val_loss: 0.0370 - val_accuracy: 0.9893\n",
      "Epoch 5/20\n",
      "37800/37800 [==============================] - 56s 1ms/sample - loss: 0.0229 - accuracy: 0.9927 - val_loss: 0.0508 - val_accuracy: 0.9855\n",
      "Epoch 6/20\n",
      "37800/37800 [==============================] - 57s 2ms/sample - loss: 0.0181 - accuracy: 0.9940 - val_loss: 0.0677 - val_accuracy: 0.9838\n",
      "Epoch 7/20\n",
      "37800/37800 [==============================] - 56s 1ms/sample - loss: 0.0149 - accuracy: 0.9954 - val_loss: 0.0410 - val_accuracy: 0.9890\n",
      "Epoch 8/20\n",
      "37800/37800 [==============================] - 56s 1ms/sample - loss: 0.0121 - accuracy: 0.9958 - val_loss: 0.0618 - val_accuracy: 0.9843\n",
      "Epoch 9/20\n",
      "37800/37800 [==============================] - 56s 1ms/sample - loss: 0.0094 - accuracy: 0.9967 - val_loss: 0.0404 - val_accuracy: 0.9902\n",
      "Epoch 10/20\n",
      "37800/37800 [==============================] - 56s 1ms/sample - loss: 0.0088 - accuracy: 0.9971 - val_loss: 0.0503 - val_accuracy: 0.9874\n",
      "Epoch 11/20\n",
      "37800/37800 [==============================] - 56s 1ms/sample - loss: 0.0061 - accuracy: 0.9980 - val_loss: 0.0477 - val_accuracy: 0.9919\n",
      "Epoch 12/20\n",
      "37800/37800 [==============================] - 56s 1ms/sample - loss: 0.0081 - accuracy: 0.9969 - val_loss: 0.0568 - val_accuracy: 0.9888\n",
      "Epoch 13/20\n",
      "37800/37800 [==============================] - 57s 2ms/sample - loss: 0.0055 - accuracy: 0.9980 - val_loss: 0.0456 - val_accuracy: 0.9910\n",
      "Epoch 14/20\n",
      "37800/37800 [==============================] - 56s 1ms/sample - loss: 0.0068 - accuracy: 0.9978 - val_loss: 0.0615 - val_accuracy: 0.9893\n",
      "Epoch 15/20\n",
      "37800/37800 [==============================] - 56s 1ms/sample - loss: 0.0047 - accuracy: 0.9984 - val_loss: 0.0595 - val_accuracy: 0.9857\n",
      "Epoch 16/20\n",
      "37800/37800 [==============================] - 56s 1ms/sample - loss: 0.0050 - accuracy: 0.9983 - val_loss: 0.0535 - val_accuracy: 0.9881\n",
      "Epoch 17/20\n",
      "37800/37800 [==============================] - 56s 1ms/sample - loss: 0.0044 - accuracy: 0.9987 - val_loss: 0.0657 - val_accuracy: 0.9876\n",
      "Epoch 18/20\n",
      "37800/37800 [==============================] - 56s 1ms/sample - loss: 0.0024 - accuracy: 0.9992 - val_loss: 0.0621 - val_accuracy: 0.9902\n",
      "Epoch 19/20\n",
      "37800/37800 [==============================] - 57s 2ms/sample - loss: 0.0060 - accuracy: 0.9980 - val_loss: 0.0620 - val_accuracy: 0.9881\n",
      "Epoch 20/20\n",
      "37800/37800 [==============================] - 56s 1ms/sample - loss: 0.0035 - accuracy: 0.9987 - val_loss: 0.0942 - val_accuracy: 0.9862\n"
     ]
    }
   ],
   "source": [
    "history = model.fit(train_X, train_Y, epochs = 20, validation_data = (val_X, val_Y))"
   ]
  },
  {
   "cell_type": "code",
   "execution_count": 21,
   "metadata": {},
   "outputs": [],
   "source": [
    "#model.evaluate(val_X, val_Y, batch_size = 64)"
   ]
  },
  {
   "cell_type": "code",
   "execution_count": 34,
   "metadata": {},
   "outputs": [
    {
     "data": {
      "text/plain": [
       "<matplotlib.legend.Legend at 0x218221f28c8>"
      ]
     },
     "execution_count": 34,
     "metadata": {},
     "output_type": "execute_result"
    },
    {
     "data": {
      "image/png": "[encoded data removed]",
      "text/plain": [
       "<Figure size 432x288 with 1 Axes>"
      ]
     },
     "metadata": {},
     "output_type": "display_data"
    }
   ],
   "source": [
    "plt.plot(history.history['accuracy'], color='b', label=\"Training accuracy\")\n",
    "plt.plot(history.history['val_accuracy'], color='r',label=\"Validation accuracy\")\n",
    "plt.legend(loc='best', shadow=True)"
   ]
  },
  {
   "cell_type": "code",
   "execution_count": 30,
   "metadata": {
    "scrolled": true
   },
   "outputs": [
    {
     "name": "stdout",
     "output_type": "stream",
     "text": [
      "Output = 3\n"
     ]
    },
    {
     "data": {
      "image/png": "[encoded data removed]",
      "text/plain": [
       "<Figure size 432x288 with 1 Axes>"
      ]
     },
     "metadata": {},
     "output_type": "display_data"
    }
   ],
   "source": [
    "y_predict = model.predict_classes(test)\n",
    "m = plt.imshow(test[9,:,:,0], cmap = \"gray\")\n",
    "print(\"Output = \" +str(y_predict[9]))"
   ]
  },
  {
   "cell_type": "code",
   "execution_count": 36,
   "metadata": {},
   "outputs": [],
   "source": [
    "submissions=pd.DataFrame({\"ImageId\": list(range(1,len(y_predict)+1)),\n",
    "                         \"Label\": y_predict})\n",
    "submissions.to_csv(\"submission.csv\", index=False, header=True)"
   ]
  },
  {
   "cell_type": "code",
   "execution_count": 39,
   "metadata": {},
   "outputs": [],
   "source": [
    "#Setting up our model\n",
    "#LeNet-5 Adaptaion\n",
    "\n",
    "model = Sequential([\n",
    "    Conv2D(filters = 6, kernel_size = (5,5), activation = \"relu\", strides = (1,1), padding = \"valid\", input_shape = (28, 28, 1)),\n",
    "    MaxPooling2D(pool_size = (2,2), strides = (2,2), padding = \"valid\"),\n",
    "    Conv2D(filters = 16, kernel_size = (5,5), activation = \"relu\", strides = (1,1), padding = \"valid\"),\n",
    "    MaxPooling2D(pool_size = (2,2), strides = (2,2)),\n",
    "    Flatten(),\n",
    "    Dense(120, activation = \"relu\"),\n",
    "    Dense(84, activation = \"relu\"),\n",
    "    Dense(10, activation = \"softmax\"),\n",
    "])"
   ]
  },
  {
   "cell_type": "code",
   "execution_count": 40,
   "metadata": {},
   "outputs": [],
   "source": [
    "model.compile(optimizer = \"adam\", loss = \"categorical_crossentropy\", metrics = [\"accuracy\"])"
   ]
  },
  {
   "cell_type": "code",
   "execution_count": 41,
   "metadata": {},
   "outputs": [
    {
     "name": "stdout",
     "output_type": "stream",
     "text": [
      "Train on 37800 samples, validate on 4200 samples\n",
      "Epoch 1/20\n",
      "37800/37800 [==============================] - 50s 1ms/sample - loss: 0.2379 - accuracy: 0.9251 - val_loss: 0.0929 - val_accuracy: 0.9695\n",
      "Epoch 2/20\n",
      "37800/37800 [==============================] - 32s 854us/sample - loss: 0.0704 - accuracy: 0.9784 - val_loss: 0.0617 - val_accuracy: 0.9802\n",
      "Epoch 3/20\n",
      "37800/37800 [==============================] - 34s 910us/sample - loss: 0.0497 - accuracy: 0.9845 - val_loss: 0.0546 - val_accuracy: 0.9836\n",
      "Epoch 4/20\n",
      "37800/37800 [==============================] - 32s 840us/sample - loss: 0.0380 - accuracy: 0.9882 - val_loss: 0.0536 - val_accuracy: 0.9831\n",
      "Epoch 5/20\n",
      "37800/37800 [==============================] - 32s 845us/sample - loss: 0.0326 - accuracy: 0.9892 - val_loss: 0.0472 - val_accuracy: 0.9862\n",
      "Epoch 6/20\n",
      "37800/37800 [==============================] - 32s 856us/sample - loss: 0.0262 - accuracy: 0.9913 - val_loss: 0.0506 - val_accuracy: 0.9831\n",
      "Epoch 7/20\n",
      "37800/37800 [==============================] - 32s 853us/sample - loss: 0.0217 - accuracy: 0.9931 - val_loss: 0.0528 - val_accuracy: 0.9860\n",
      "Epoch 8/20\n",
      "37800/37800 [==============================] - 32s 849us/sample - loss: 0.0206 - accuracy: 0.9933 - val_loss: 0.0564 - val_accuracy: 0.9855\n",
      "Epoch 9/20\n",
      "37800/37800 [==============================] - 34s 906us/sample - loss: 0.0153 - accuracy: 0.9952 - val_loss: 0.0449 - val_accuracy: 0.9886uracy: 0.99\n",
      "Epoch 10/20\n",
      "37800/37800 [==============================] - 33s 881us/sample - loss: 0.0148 - accuracy: 0.9954 - val_loss: 0.0450 - val_accuracy: 0.9867\n",
      "Epoch 11/20\n",
      "37800/37800 [==============================] - 33s 883us/sample - loss: 0.0132 - accuracy: 0.9954 - val_loss: 0.0462 - val_accuracy: 0.9881\n",
      "Epoch 12/20\n",
      "37800/37800 [==============================] - 33s 868us/sample - loss: 0.0132 - accuracy: 0.9956 - val_loss: 0.0506 - val_accuracy: 0.9881\n",
      "Epoch 13/20\n",
      "37800/37800 [==============================] - 33s 886us/sample - loss: 0.0115 - accuracy: 0.9959 - val_loss: 0.0531 - val_accuracy: 0.9864\n",
      "Epoch 14/20\n",
      "37800/37800 [==============================] - 33s 871us/sample - loss: 0.0091 - accuracy: 0.9969 - val_loss: 0.0529 - val_accuracy: 0.9879\n",
      "Epoch 15/20\n",
      "37800/37800 [==============================] - 35s 917us/sample - loss: 0.0111 - accuracy: 0.9962 - val_loss: 0.0443 - val_accuracy: 0.9888\n",
      "Epoch 16/20\n",
      "37800/37800 [==============================] - 35s 915us/sample - loss: 0.0075 - accuracy: 0.9977 - val_loss: 0.0514 - val_accuracy: 0.9881\n",
      "Epoch 17/20\n",
      "37800/37800 [==============================] - 34s 898us/sample - loss: 0.0102 - accuracy: 0.9968 - val_loss: 0.0709 - val_accuracy: 0.9845\n",
      "Epoch 18/20\n",
      "37800/37800 [==============================] - 33s 881us/sample - loss: 0.0053 - accuracy: 0.9983 - val_loss: 0.0641 - val_accuracy: 0.9862\n",
      "Epoch 19/20\n",
      "37800/37800 [==============================] - 33s 861us/sample - loss: 0.0093 - accuracy: 0.9969 - val_loss: 0.0553 - val_accuracy: 0.9893\n",
      "Epoch 20/20\n",
      "37800/37800 [==============================] - 33s 875us/sample - loss: 0.0069 - accuracy: 0.9979 - val_loss: 0.0680 - val_accuracy: 0.9871\n"
     ]
    }
   ],
   "source": [
    "history = model.fit(train_X, train_Y, epochs = 20, validation_data = (val_X, val_Y))"
   ]
  },
  {
   "cell_type": "code",
   "execution_count": 42,
   "metadata": {},
   "outputs": [
    {
     "data": {
      "text/plain": [
       "<matplotlib.legend.Legend at 0x21843d54548>"
      ]
     },
     "execution_count": 42,
     "metadata": {},
     "output_type": "execute_result"
    },
    {
     "data": {
      "image/png": "[encoded data removed]",
      "text/plain": [
       "<Figure size 432x288 with 1 Axes>"
      ]
     },
     "metadata": {},
     "output_type": "display_data"
    }
   ],
   "source": [
    "plt.plot(history.history['accuracy'], color='b', label=\"Training accuracy\")\n",
    "plt.plot(history.history['val_accuracy'], color='r',label=\"Validation accuracy\")\n",
    "plt.legend(loc='best', shadow=True)"
   ]
  },
  {
   "cell_type": "code",
   "execution_count": null,
   "metadata": {},
   "outputs": [],
   "source": []
  },
  {
   "cell_type": "code",
   "execution_count": null,
   "metadata": {},
   "outputs": [],
   "source": []
  },
  {
   "cell_type": "code",
   "execution_count": null,
   "metadata": {},
   "outputs": [],
   "source": []
  },
  {
   "cell_type": "code",
   "execution_count": 16,
   "metadata": {},
   "outputs": [],
   "source": [
    "#Setting up our model\n",
    "#Model 1 with BatchNorm and some other changes\n",
    "model = Sequential([\n",
    "    Conv2D(filters = 32, kernel_size = (4,4), activation = \"relu\", strides = (1,1), padding = \"same\", input_shape = (28, 28, 1)),\n",
    "    MaxPooling2D(pool_size = (2,2), padding = \"same\"),\n",
    "    BatchNormalization(axis = 1),\n",
    "    Conv2D(filters = 64, kernel_size = (2,2), activation = \"relu\", strides = (1,1), padding = \"same\"),\n",
    "    MaxPooling2D(pool_size = (2,2), strides = (2,2)),\n",
    "    Flatten(),\n",
    "    BatchNormalization(),\n",
    "    Dense(512, activation = \"relu\"),\n",
    "    BatchNormalization(),\n",
    "    Dense(10, activation = \"softmax\"),\n",
    "])"
   ]
  },
  {
   "cell_type": "code",
   "execution_count": 17,
   "metadata": {},
   "outputs": [],
   "source": [
    "model.compile(optimizer = \"adam\", loss = \"categorical_crossentropy\", metrics = [\"accuracy\"])"
   ]
  },
  {
   "cell_type": "code",
   "execution_count": 18,
   "metadata": {},
   "outputs": [
    {
     "name": "stdout",
     "output_type": "stream",
     "text": [
      "Train on 37800 samples, validate on 4200 samples\n",
      "Epoch 1/30\n",
      "37800/37800 [==============================] - 112s 3ms/sample - loss: 0.1343 - accuracy: 0.9604 - val_loss: 0.0658 - val_accuracy: 0.9821\n",
      "Epoch 2/30\n",
      "37800/37800 [==============================] - 96s 3ms/sample - loss: 0.0522 - accuracy: 0.9835 - val_loss: 0.0754 - val_accuracy: 0.9769\n",
      "Epoch 3/30\n",
      "37800/37800 [==============================] - 97s 3ms/sample - loss: 0.0437 - accuracy: 0.9865 - val_loss: 0.0522 - val_accuracy: 0.9840\n",
      "Epoch 4/30\n",
      "37800/37800 [==============================] - 97s 3ms/sample - loss: 0.0324 - accuracy: 0.9901 - val_loss: 0.0656 - val_accuracy: 0.9824\n",
      "Epoch 5/30\n",
      "37800/37800 [==============================] - 98s 3ms/sample - loss: 0.0271 - accuracy: 0.9913 - val_loss: 0.0454 - val_accuracy: 0.9893\n",
      "Epoch 6/30\n",
      "37800/37800 [==============================] - 98s 3ms/sample - loss: 0.0237 - accuracy: 0.9925 - val_loss: 0.0600 - val_accuracy: 0.9848\n",
      "Epoch 7/30\n",
      "37800/37800 [==============================] - 98s 3ms/sample - loss: 0.0225 - accuracy: 0.9921 - val_loss: 0.0479 - val_accuracy: 0.9890\n",
      "Epoch 8/30\n",
      "37800/37800 [==============================] - 98s 3ms/sample - loss: 0.0167 - accuracy: 0.9947 - val_loss: 0.0574 - val_accuracy: 0.9881\n",
      "Epoch 9/30\n",
      "37800/37800 [==============================] - 98s 3ms/sample - loss: 0.0176 - accuracy: 0.9937 - val_loss: 0.0632 - val_accuracy: 0.9862\n",
      "Epoch 10/30\n",
      "37800/37800 [==============================] - 98s 3ms/sample - loss: 0.0135 - accuracy: 0.9954 - val_loss: 0.0632 - val_accuracy: 0.9843\n",
      "Epoch 11/30\n",
      "37800/37800 [==============================] - 97s 3ms/sample - loss: 0.0139 - accuracy: 0.9953 - val_loss: 0.0576 - val_accuracy: 0.9860\n",
      "Epoch 12/30\n",
      "37800/37800 [==============================] - 99s 3ms/sample - loss: 0.0114 - accuracy: 0.9960 - val_loss: 0.0508 - val_accuracy: 0.9890\n",
      "Epoch 13/30\n",
      "37800/37800 [==============================] - 99s 3ms/sample - loss: 0.0101 - accuracy: 0.9967 - val_loss: 0.0482 - val_accuracy: 0.9883\n",
      "Epoch 14/30\n",
      "37800/37800 [==============================] - 99s 3ms/sample - loss: 0.0102 - accuracy: 0.9970 - val_loss: 0.0680 - val_accuracy: 0.9871\n",
      "Epoch 15/30\n",
      "37800/37800 [==============================] - 98s 3ms/sample - loss: 0.0098 - accuracy: 0.9965 - val_loss: 0.0698 - val_accuracy: 0.9860\n",
      "Epoch 16/30\n",
      "37800/37800 [==============================] - 97s 3ms/sample - loss: 0.0069 - accuracy: 0.9979 - val_loss: 0.0613 - val_accuracy: 0.9848\n",
      "Epoch 17/30\n",
      "37800/37800 [==============================] - 98s 3ms/sample - loss: 0.0120 - accuracy: 0.9962 - val_loss: 0.0528 - val_accuracy: 0.9900\n",
      "Epoch 18/30\n",
      "37800/37800 [==============================] - 98s 3ms/sample - loss: 0.0090 - accuracy: 0.9970 - val_loss: 0.0526 - val_accuracy: 0.9876\n",
      "Epoch 19/30\n",
      "37800/37800 [==============================] - 99s 3ms/sample - loss: 0.0076 - accuracy: 0.9974 - val_loss: 0.0757 - val_accuracy: 0.9833\n",
      "Epoch 20/30\n",
      "37800/37800 [==============================] - 99s 3ms/sample - loss: 0.0073 - accuracy: 0.9976 - val_loss: 0.0602 - val_accuracy: 0.9864\n",
      "Epoch 21/30\n",
      "37800/37800 [==============================] - 99s 3ms/sample - loss: 0.0057 - accuracy: 0.9981 - val_loss: 0.0766 - val_accuracy: 0.9869\n",
      "Epoch 22/30\n",
      "37800/37800 [==============================] - 100s 3ms/sample - loss: 0.0063 - accuracy: 0.9980 - val_loss: 0.0543 - val_accuracy: 0.9900\n",
      "Epoch 23/30\n",
      "37800/37800 [==============================] - 98s 3ms/sample - loss: 0.0061 - accuracy: 0.9978 - val_loss: 0.0534 - val_accuracy: 0.9895\n",
      "Epoch 24/30\n",
      "37800/37800 [==============================] - 104s 3ms/sample - loss: 0.0089 - accuracy: 0.9974 - val_loss: 0.0728 - val_accuracy: 0.9886\n",
      "Epoch 25/30\n",
      "37800/37800 [==============================] - 99s 3ms/sample - loss: 0.0064 - accuracy: 0.9981 - val_loss: 0.0598 - val_accuracy: 0.9888\n",
      "Epoch 26/30\n",
      "37800/37800 [==============================] - 115s 3ms/sample - loss: 0.0053 - accuracy: 0.9984 - val_loss: 0.0581 - val_accuracy: 0.9907\n",
      "Epoch 27/30\n",
      "37800/37800 [==============================] - 129s 3ms/sample - loss: 0.0040 - accuracy: 0.9985 - val_loss: 0.0870 - val_accuracy: 0.9862\n",
      "Epoch 28/30\n",
      "37800/37800 [==============================] - 118s 3ms/sample - loss: 0.0061 - accuracy: 0.9982 - val_loss: 0.0772 - val_accuracy: 0.9886\n",
      "Epoch 29/30\n",
      "37800/37800 [==============================] - 100s 3ms/sample - loss: 0.0045 - accuracy: 0.9986 - val_loss: 0.0679 - val_accuracy: 0.9910\n",
      "Epoch 30/30\n",
      "37800/37800 [==============================] - 100s 3ms/sample - loss: 0.0050 - accuracy: 0.9982 - val_loss: 0.0651 - val_accuracy: 0.9860\n"
     ]
    }
   ],
   "source": [
    "history = model.fit(train_X, train_Y, epochs = 30, validation_data = (val_X, val_Y))"
   ]
  },
  {
   "cell_type": "code",
   "execution_count": 19,
   "metadata": {},
   "outputs": [
    {
     "data": {
      "text/plain": [
       "<matplotlib.legend.Legend at 0x1fb24f72f48>"
      ]
     },
     "execution_count": 19,
     "metadata": {},
     "output_type": "execute_result"
    },
    {
     "data": {
      "image/png": "[encoded data removed]",
      "text/plain": [
       "<Figure size 432x288 with 1 Axes>"
      ]
     },
     "metadata": {},
     "output_type": "display_data"
    }
   ],
   "source": [
    "plt.plot(history.history['accuracy'], color='b', label=\"Training accuracy\")\n",
    "plt.plot(history.history['val_accuracy'], color='r',label=\"Validation accuracy\")\n",
    "plt.legend(loc='best', shadow=True)"
   ]
  },
  {
   "cell_type": "code",
   "execution_count": 23,
   "metadata": {},
   "outputs": [],
   "source": [
    "#Setting up our model\n",
    "#LeNet-5 Adaptaion with Dropout\n",
    "\n",
    "model = Sequential([\n",
    "    Conv2D(filters = 6, kernel_size = (5,5), activation = \"relu\", strides = (1,1), padding = \"valid\", input_shape = (28, 28, 1)),\n",
    "    MaxPooling2D(pool_size = (2,2), strides = (2,2), padding = \"valid\"),\n",
    "    Dropout(0.25),\n",
    "    Conv2D(filters = 16, kernel_size = (5,5), activation = \"relu\", strides = (1,1), padding = \"valid\"),\n",
    "    MaxPooling2D(pool_size = (2,2), strides = (2,2)),\n",
    "    Flatten(),\n",
    "    Dense(120, activation = \"relu\"),\n",
    "    Dropout(0.25),\n",
    "    Dense(84, activation = \"relu\"),\n",
    "    Dropout(0.25),\n",
    "    Dense(10, activation = \"softmax\"),\n",
    "])"
   ]
  },
  {
   "cell_type": "code",
   "execution_count": 25,
   "metadata": {},
   "outputs": [],
   "source": [
    "model.compile(optimizer = \"adam\", loss = \"categorical_crossentropy\", metrics = [\"accuracy\"])"
   ]
  },
  {
   "cell_type": "code",
   "execution_count": 26,
   "metadata": {
    "scrolled": true
   },
   "outputs": [
    {
     "name": "stdout",
     "output_type": "stream",
     "text": [
      "Train on 37800 samples, validate on 4200 samples\n",
      "Epoch 1/20\n",
      "37800/37800 [==============================] - 43s 1ms/sample - loss: 0.4106 - accuracy: 0.8681 - val_loss: 0.1127 - val_accuracy: 0.9655\n",
      "Epoch 2/20\n",
      "37800/37800 [==============================] - 30s 799us/sample - loss: 0.1468 - accuracy: 0.9560 - val_loss: 0.0751 - val_accuracy: 0.9783\n",
      "Epoch 3/20\n",
      "37800/37800 [==============================] - 30s 796us/sample - loss: 0.1092 - accuracy: 0.9670 - val_loss: 0.0572 - val_accuracy: 0.9819\n",
      "Epoch 4/20\n",
      "37800/37800 [==============================] - 30s 791us/sample - loss: 0.0892 - accuracy: 0.9734 - val_loss: 0.0603 - val_accuracy: 0.9829\n",
      "Epoch 5/20\n",
      "37800/37800 [==============================] - 30s 795us/sample - loss: 0.0767 - accuracy: 0.9769 - val_loss: 0.0538 - val_accuracy: 0.9855\n",
      "Epoch 6/20\n",
      "37800/37800 [==============================] - 31s 818us/sample - loss: 0.0675 - accuracy: 0.9795 - val_loss: 0.0558 - val_accuracy: 0.9845\n",
      "Epoch 7/20\n",
      "37800/37800 [==============================] - 31s 821us/sample - loss: 0.0603 - accuracy: 0.9821 - val_loss: 0.0487 - val_accuracy: 0.9876\n",
      "Epoch 8/20\n",
      "37800/37800 [==============================] - 31s 819us/sample - loss: 0.0586 - accuracy: 0.9826 - val_loss: 0.0426 - val_accuracy: 0.9895\n",
      "Epoch 9/20\n",
      "37800/37800 [==============================] - 32s 840us/sample - loss: 0.0548 - accuracy: 0.9837 - val_loss: 0.0452 - val_accuracy: 0.9874\n",
      "Epoch 10/20\n",
      "37800/37800 [==============================] - 30s 806us/sample - loss: 0.0510 - accuracy: 0.9853 - val_loss: 0.0449 - val_accuracy: 0.9881\n",
      "Epoch 11/20\n",
      "37800/37800 [==============================] - 31s 819us/sample - loss: 0.0486 - accuracy: 0.9852 - val_loss: 0.0516 - val_accuracy: 0.9883\n",
      "Epoch 12/20\n",
      "37800/37800 [==============================] - 30s 782us/sample - loss: 0.0489 - accuracy: 0.9846 - val_loss: 0.0439 - val_accuracy: 0.9893\n",
      "Epoch 13/20\n",
      "37800/37800 [==============================] - 30s 784us/sample - loss: 0.0421 - accuracy: 0.9871 - val_loss: 0.0400 - val_accuracy: 0.9881\n",
      "Epoch 14/20\n",
      "37800/37800 [==============================] - 29s 763us/sample - loss: 0.0437 - accuracy: 0.9872 - val_loss: 0.0396 - val_accuracy: 0.9898\n",
      "Epoch 15/20\n",
      "37800/37800 [==============================] - 30s 796us/sample - loss: 0.0409 - accuracy: 0.9870 - val_loss: 0.0405 - val_accuracy: 0.9910\n",
      "Epoch 16/20\n",
      "37800/37800 [==============================] - 31s 821us/sample - loss: 0.0411 - accuracy: 0.9872 - val_loss: 0.0406 - val_accuracy: 0.9890\n",
      "Epoch 17/20\n",
      "37800/37800 [==============================] - 32s 842us/sample - loss: 0.0396 - accuracy: 0.9879 - val_loss: 0.0424 - val_accuracy: 0.9893\n",
      "Epoch 18/20\n",
      "37800/37800 [==============================] - 31s 826us/sample - loss: 0.0393 - accuracy: 0.9882 - val_loss: 0.0356 - val_accuracy: 0.9902\n",
      "Epoch 19/20\n",
      "37800/37800 [==============================] - 33s 865us/sample - loss: 0.0381 - accuracy: 0.9881 - val_loss: 0.0405 - val_accuracy: 0.9900\n",
      "Epoch 20/20\n",
      "37800/37800 [==============================] - 34s 908us/sample - loss: 0.0368 - accuracy: 0.9887 - val_loss: 0.0450 - val_accuracy: 0.9888\n"
     ]
    }
   ],
   "source": [
    "history = model.fit(train_X, train_Y, epochs = 20, validation_data = (val_X, val_Y))"
   ]
  },
  {
   "cell_type": "code",
   "execution_count": 27,
   "metadata": {},
   "outputs": [
    {
     "data": {
      "text/plain": [
       "<matplotlib.legend.Legend at 0x1fb253dc108>"
      ]
     },
     "execution_count": 27,
     "metadata": {},
     "output_type": "execute_result"
    },
    {
     "data": {
      "image/png": "[encoded data removed]",
      "text/plain": [
       "<Figure size 432x288 with 1 Axes>"
      ]
     },
     "metadata": {},
     "output_type": "display_data"
    }
   ],
   "source": [
    "plt.plot(history.history['accuracy'], color='b', label=\"Training accuracy\")\n",
    "plt.plot(history.history['val_accuracy'], color='r',label=\"Validation accuracy\")\n",
    "plt.legend(loc='best', shadow=True)"
   ]
  },
  {
   "cell_type": "code",
   "execution_count": 18,
   "metadata": {},
   "outputs": [],
   "source": [
    "#Setting up our model\n",
    "#LeNet-5 Adaptaion with BatchNorm\n",
    "#Submission 2\n",
    "\n",
    "model = Sequential([\n",
    "    Conv2D(filters = 6, kernel_size = (5,5), activation = \"relu\", strides = (1,1), padding = \"valid\", input_shape = (28, 28, 1)),\n",
    "    MaxPooling2D(pool_size = (2,2), strides = (2,2), padding = \"valid\"),\n",
    "    BatchNormalization(axis = 1),\n",
    "    Conv2D(filters = 16, kernel_size = (5,5), activation = \"relu\", strides = (1,1), padding = \"valid\"),\n",
    "    MaxPooling2D(pool_size = (2,2), strides = (2,2)),\n",
    "    Flatten(),\n",
    "    BatchNormalization(),\n",
    "    Dense(120, activation = \"relu\"),\n",
    "    BatchNormalization(),\n",
    "    Dense(84, activation = \"relu\"),\n",
    "    BatchNormalization(),\n",
    "    Dense(10, activation = \"softmax\"),\n",
    "])"
   ]
  },
  {
   "cell_type": "code",
   "execution_count": 19,
   "metadata": {},
   "outputs": [],
   "source": [
    "model.compile(optimizer = \"adam\", loss = \"categorical_crossentropy\", metrics = [\"accuracy\"])"
   ]
  },
  {
   "cell_type": "code",
   "execution_count": 30,
   "metadata": {},
   "outputs": [
    {
     "name": "stdout",
     "output_type": "stream",
     "text": [
      "Train on 37800 samples, validate on 4200 samples\n",
      "Epoch 1/20\n",
      "37800/37800 [==============================] - 49s 1ms/sample - loss: 0.2071 - accuracy: 0.9369 - val_loss: 0.0848 - val_accuracy: 0.9752\n",
      "Epoch 2/20\n",
      "37800/37800 [==============================] - 34s 909us/sample - loss: 0.0823 - accuracy: 0.9738 - val_loss: 0.0654 - val_accuracy: 0.9795\n",
      "Epoch 3/20\n",
      "37800/37800 [==============================] - 36s 948us/sample - loss: 0.0622 - accuracy: 0.9804 - val_loss: 0.0544 - val_accuracy: 0.9814\n",
      "Epoch 4/20\n",
      "37800/37800 [==============================] - 37s 971us/sample - loss: 0.0490 - accuracy: 0.9847 - val_loss: 0.0478 - val_accuracy: 0.9864\n",
      "Epoch 5/20\n",
      "37800/37800 [==============================] - 36s 952us/sample - loss: 0.0449 - accuracy: 0.9850 - val_loss: 0.0478 - val_accuracy: 0.9845\n",
      "Epoch 6/20\n",
      "37800/37800 [==============================] - 38s 1ms/sample - loss: 0.0390 - accuracy: 0.9874 - val_loss: 0.0378 - val_accuracy: 0.9905\n",
      "Epoch 7/20\n",
      "37800/37800 [==============================] - 35s 939us/sample - loss: 0.0344 - accuracy: 0.9887 - val_loss: 0.0527 - val_accuracy: 0.9864\n",
      "Epoch 8/20\n",
      "37800/37800 [==============================] - 34s 899us/sample - loss: 0.0313 - accuracy: 0.9902 - val_loss: 0.0471 - val_accuracy: 0.9871\n",
      "Epoch 9/20\n",
      "37800/37800 [==============================] - 33s 876us/sample - loss: 0.0283 - accuracy: 0.9901 - val_loss: 0.0416 - val_accuracy: 0.9874\n",
      "Epoch 10/20\n",
      "37800/37800 [==============================] - 34s 897us/sample - loss: 0.0243 - accuracy: 0.9920 - val_loss: 0.0336 - val_accuracy: 0.9898\n",
      "Epoch 11/20\n",
      "37800/37800 [==============================] - 36s 949us/sample - loss: 0.0220 - accuracy: 0.9926 - val_loss: 0.0356 - val_accuracy: 0.9895\n",
      "Epoch 12/20\n",
      "37800/37800 [==============================] - 35s 925us/sample - loss: 0.0202 - accuracy: 0.9932 - val_loss: 0.0398 - val_accuracy: 0.9902\n",
      "Epoch 13/20\n",
      "37800/37800 [==============================] - 35s 913us/sample - loss: 0.0211 - accuracy: 0.9933 - val_loss: 0.0386 - val_accuracy: 0.9893\n",
      "Epoch 14/20\n",
      "37800/37800 [==============================] - 36s 942us/sample - loss: 0.0168 - accuracy: 0.9944 - val_loss: 0.0477 - val_accuracy: 0.9864\n",
      "Epoch 15/20\n",
      "37800/37800 [==============================] - 35s 931us/sample - loss: 0.0179 - accuracy: 0.9938 - val_loss: 0.0384 - val_accuracy: 0.9888\n",
      "Epoch 16/20\n",
      "37800/37800 [==============================] - 35s 917us/sample - loss: 0.0184 - accuracy: 0.9942 - val_loss: 0.0380 - val_accuracy: 0.9912\n",
      "Epoch 17/20\n",
      "37800/37800 [==============================] - 35s 939us/sample - loss: 0.0159 - accuracy: 0.9948 - val_loss: 0.0608 - val_accuracy: 0.9840\n",
      "Epoch 18/20\n",
      "37800/37800 [==============================] - 35s 936us/sample - loss: 0.0160 - accuracy: 0.9951 - val_loss: 0.0439 - val_accuracy: 0.9886\n",
      "Epoch 19/20\n",
      "37800/37800 [==============================] - 36s 959us/sample - loss: 0.0137 - accuracy: 0.9954 - val_loss: 0.0422 - val_accuracy: 0.9905\n",
      "Epoch 20/20\n",
      "37800/37800 [==============================] - 35s 923us/sample - loss: 0.0129 - accuracy: 0.9957 - val_loss: 0.0300 - val_accuracy: 0.9907\n"
     ]
    }
   ],
   "source": [
    "history = model.fit(train_X, train_Y, epochs = 20, validation_data = (val_X, val_Y))"
   ]
  },
  {
   "cell_type": "code",
   "execution_count": 31,
   "metadata": {},
   "outputs": [
    {
     "data": {
      "text/plain": [
       "<matplotlib.legend.Legend at 0x1fb259c3688>"
      ]
     },
     "execution_count": 31,
     "metadata": {},
     "output_type": "execute_result"
    },
    {
     "data": {
      "image/png": "[encoded data removed]",
      "text/plain": [
       "<Figure size 432x288 with 1 Axes>"
      ]
     },
     "metadata": {},
     "output_type": "display_data"
    }
   ],
   "source": [
    "plt.plot(history.history['accuracy'], color='b', label=\"Training accuracy\")\n",
    "plt.plot(history.history['val_accuracy'], color='r',label=\"Validation accuracy\")\n",
    "plt.legend(loc='best', shadow=True)"
   ]
  },
  {
   "cell_type": "code",
   "execution_count": 20,
   "metadata": {},
   "outputs": [
    {
     "name": "stdout",
     "output_type": "stream",
     "text": [
      "Train on 42000 samples, validate on 4200 samples\n",
      "Epoch 1/20\n",
      "42000/42000 [==============================] - 72s 2ms/sample - loss: 0.2146 - accuracy: 0.9353 - val_loss: 0.1377 - val_accuracy: 0.9583\n",
      "Epoch 2/20\n",
      "42000/42000 [==============================] - 50s 1ms/sample - loss: 0.0788 - accuracy: 0.9757 - val_loss: 0.0338 - val_accuracy: 0.9912\n",
      "Epoch 3/20\n",
      "42000/42000 [==============================] - 45s 1ms/sample - loss: 0.0605 - accuracy: 0.9813 - val_loss: 0.0344 - val_accuracy: 0.9902\n",
      "Epoch 4/20\n",
      "42000/42000 [==============================] - 46s 1ms/sample - loss: 0.0489 - accuracy: 0.9848 - val_loss: 0.0248 - val_accuracy: 0.9914\n",
      "Epoch 5/20\n",
      "42000/42000 [==============================] - 52s 1ms/sample - loss: 0.0451 - accuracy: 0.9850 - val_loss: 0.0184 - val_accuracy: 0.9936\n",
      "Epoch 6/20\n",
      "42000/42000 [==============================] - 47s 1ms/sample - loss: 0.0373 - accuracy: 0.9882 - val_loss: 0.0179 - val_accuracy: 0.9926\n",
      "Epoch 7/20\n",
      "42000/42000 [==============================] - 45s 1ms/sample - loss: 0.0328 - accuracy: 0.9889 - val_loss: 0.0174 - val_accuracy: 0.9950\n",
      "Epoch 8/20\n",
      "42000/42000 [==============================] - 46s 1ms/sample - loss: 0.0292 - accuracy: 0.9903 - val_loss: 0.0125 - val_accuracy: 0.9957\n",
      "Epoch 9/20\n",
      "42000/42000 [==============================] - 52s 1ms/sample - loss: 0.0271 - accuracy: 0.9906 - val_loss: 0.0080 - val_accuracy: 0.9976\n",
      "Epoch 10/20\n",
      "42000/42000 [==============================] - 48s 1ms/sample - loss: 0.0219 - accuracy: 0.9927 - val_loss: 0.0171 - val_accuracy: 0.9940\n",
      "Epoch 11/20\n",
      "42000/42000 [==============================] - 46s 1ms/sample - loss: 0.0230 - accuracy: 0.9926 - val_loss: 0.0067 - val_accuracy: 0.9981\n",
      "Epoch 12/20\n",
      "42000/42000 [==============================] - 47s 1ms/sample - loss: 0.0191 - accuracy: 0.9938 - val_loss: 0.0073 - val_accuracy: 0.9981\n",
      "Epoch 13/20\n",
      "42000/42000 [==============================] - 52s 1ms/sample - loss: 0.0184 - accuracy: 0.9940 - val_loss: 0.0128 - val_accuracy: 0.9960\n",
      "Epoch 14/20\n",
      "42000/42000 [==============================] - 47s 1ms/sample - loss: 0.0178 - accuracy: 0.9942 - val_loss: 0.0044 - val_accuracy: 0.9986\n",
      "Epoch 15/20\n",
      "42000/42000 [==============================] - 46s 1ms/sample - loss: 0.0161 - accuracy: 0.9945 - val_loss: 0.0050 - val_accuracy: 0.9986\n",
      "Epoch 16/20\n",
      "42000/42000 [==============================] - 47s 1ms/sample - loss: 0.0150 - accuracy: 0.9951 - val_loss: 0.0038 - val_accuracy: 0.9986\n",
      "Epoch 17/20\n",
      "42000/42000 [==============================] - 54s 1ms/sample - loss: 0.0159 - accuracy: 0.9948 - val_loss: 0.0068 - val_accuracy: 0.9974\n",
      "Epoch 18/20\n",
      "42000/42000 [==============================] - 49s 1ms/sample - loss: 0.0145 - accuracy: 0.9953 - val_loss: 0.0057 - val_accuracy: 0.9979\n",
      "Epoch 19/20\n",
      "42000/42000 [==============================] - 48s 1ms/sample - loss: 0.0150 - accuracy: 0.9950 - val_loss: 0.0040 - val_accuracy: 0.9983\n",
      "Epoch 20/20\n",
      "42000/42000 [==============================] - 50s 1ms/sample - loss: 0.0122 - accuracy: 0.9958 - val_loss: 0.0025 - val_accuracy: 0.9993\n"
     ]
    }
   ],
   "source": [
    "history = model.fit(X, Y, epochs = 20, validation_data = (val_X, val_Y))"
   ]
  },
  {
   "cell_type": "code",
   "execution_count": 21,
   "metadata": {},
   "outputs": [
    {
     "data": {
      "text/plain": [
       "<matplotlib.legend.Legend at 0x1dac372bd48>"
      ]
     },
     "execution_count": 21,
     "metadata": {},
     "output_type": "execute_result"
    },
    {
     "data": {
      "image/png": "[encoded data removed]",
      "text/plain": [
       "<Figure size 432x288 with 1 Axes>"
      ]
     },
     "metadata": {},
     "output_type": "display_data"
    }
   ],
   "source": [
    "plt.plot(history.history['accuracy'], color='b', label=\"Training accuracy\")\n",
    "plt.plot(history.history['val_accuracy'], color='r',label=\"Validation accuracy\")\n",
    "plt.legend(loc='best', shadow=True)"
   ]
  },
  {
   "cell_type": "code",
   "execution_count": 23,
   "metadata": {},
   "outputs": [],
   "source": [
    "y_predict = model.predict_classes(test)\n",
    "submissions=pd.DataFrame({\"ImageId\": list(range(1,len(y_predict)+1)),\n",
    "                         \"Label\": y_predict})\n",
    "submissions.to_csv(\"submission1.csv\", index=False, header=True)"
   ]
  },
  {
   "cell_type": "code",
   "execution_count": null,
   "metadata": {},
   "outputs": [],
   "source": [
    "#Setting up our model\n",
    "#VGG Adaptaion with BatchNorm\n",
    "#Submission 3\n",
    "\n",
    "model = Sequential([\n",
    "    Conv2D(filters = 32, kernel_size = (3,3), activation = \"relu\", strides = (1,1), padding = \"same\", input_shape = (28, 28, 1)),\n",
    "    BatchNormalization(axis = 1),\n",
    "    Conv2D(filters = 32, kernel_size = (3,3), activation = \"relu\", strides = (1,1), padding = \"same\", input_shape = (28, 28, 1)),\n",
    "    MaxPooling2D(pool_size = (2,2), strides = (2,2)),\n",
    "    BatchNormalization(axis = 1),\n",
    "    Conv2D(filters = 64, kernel_size = (3,3), activation = \"relu\", strides = (1,1), padding = \"same\"),\n",
    "    BatchNormalization(axis = 1),\n",
    "    Conv2D(filters = 64, kernel_size = (3,3), activation = \"relu\", strides = (1,1), padding = \"same\"),\n",
    "    MaxPooling2D(pool_size = (2,2), strides = (2,2)),\n",
    "    Flatten(),\n",
    "    BatchNormalization(),\n",
    "    Dense(512, activation = \"relu\"),\n",
    "    BatchNormalization(),    \n",
    "    Dense(10, activation = \"softmax\"),\n",
    "])"
   ]
  },
  {
   "cell_type": "code",
   "execution_count": 17,
   "metadata": {},
   "outputs": [],
   "source": [
    "model.compile(optimizer = \"adam\", loss = \"categorical_crossentropy\", metrics = [\"accuracy\"])"
   ]
  },
  {
   "cell_type": "code",
   "execution_count": 18,
   "metadata": {},
   "outputs": [
    {
     "name": "stdout",
     "output_type": "stream",
     "text": [
      "Train on 37800 samples, validate on 4200 samples\n",
      "Epoch 1/20\n",
      "37800/37800 [==============================] - 359s 9ms/sample - loss: 0.1445 - accuracy: 0.9567 - val_loss: 0.1022 - val_accuracy: 0.9669\n",
      "Epoch 2/20\n",
      "37800/37800 [==============================] - 392s 10ms/sample - loss: 0.0561 - accuracy: 0.9827 - val_loss: 0.1596 - val_accuracy: 0.9569\n",
      "Epoch 3/20\n",
      "37800/37800 [==============================] - 340s 9ms/sample - loss: 0.0428 - accuracy: 0.9866 - val_loss: 0.1081 - val_accuracy: 0.9690\n",
      "Epoch 4/20\n",
      "37800/37800 [==============================] - 337s 9ms/sample - loss: 0.0399 - accuracy: 0.9872 - val_loss: 0.0503 - val_accuracy: 0.9883\n",
      "Epoch 5/20\n",
      "37800/37800 [==============================] - 341s 9ms/sample - loss: 0.0334 - accuracy: 0.9892 - val_loss: 0.0361 - val_accuracy: 0.9900\n",
      "Epoch 6/20\n",
      "37800/37800 [==============================] - 376s 10ms/sample - loss: 0.0268 - accuracy: 0.9914 - val_loss: 0.0365 - val_accuracy: 0.9895\n",
      "Epoch 7/20\n",
      "37800/37800 [==============================] - 437s 12ms/sample - loss: 0.0223 - accuracy: 0.9924 - val_loss: 0.0448 - val_accuracy: 0.9886\n",
      "Epoch 8/20\n",
      "37800/37800 [==============================] - 409s 11ms/sample - loss: 0.0199 - accuracy: 0.9937 - val_loss: 0.0805 - val_accuracy: 0.9838\n",
      "Epoch 9/20\n",
      "37800/37800 [==============================] - 449s 12ms/sample - loss: 0.0164 - accuracy: 0.9948 - val_loss: 0.0414 - val_accuracy: 0.9905\n",
      "Epoch 10/20\n",
      "37800/37800 [==============================] - 317s 8ms/sample - loss: 0.0162 - accuracy: 0.9945 - val_loss: 0.0743 - val_accuracy: 0.9860\n",
      "Epoch 11/20\n",
      "37800/37800 [==============================] - 309s 8ms/sample - loss: 0.0147 - accuracy: 0.9952 - val_loss: 0.0415 - val_accuracy: 0.9876\n",
      "Epoch 12/20\n",
      "37800/37800 [==============================] - 318s 8ms/sample - loss: 0.0130 - accuracy: 0.9959 - val_loss: 0.0348 - val_accuracy: 0.9910\n",
      "Epoch 13/20\n",
      "37800/37800 [==============================] - 318s 8ms/sample - loss: 0.0125 - accuracy: 0.9961 - val_loss: 0.0341 - val_accuracy: 0.9910\n",
      "Epoch 14/20\n",
      "37800/37800 [==============================] - 306s 8ms/sample - loss: 0.0116 - accuracy: 0.9962 - val_loss: 0.0481 - val_accuracy: 0.9917\n",
      "Epoch 15/20\n",
      "37800/37800 [==============================] - 306s 8ms/sample - loss: 0.0097 - accuracy: 0.9971 - val_loss: 0.0476 - val_accuracy: 0.9890\n",
      "Epoch 16/20\n",
      "37800/37800 [==============================] - 310s 8ms/sample - loss: 0.0100 - accuracy: 0.9966 - val_loss: 0.0396 - val_accuracy: 0.9900\n",
      "Epoch 17/20\n",
      "37800/37800 [==============================] - 341s 9ms/sample - loss: 0.0066 - accuracy: 0.9979 - val_loss: 0.0338 - val_accuracy: 0.9926\n",
      "Epoch 18/20\n",
      "37800/37800 [==============================] - 325s 9ms/sample - loss: 0.0086 - accuracy: 0.9972 - val_loss: 0.0321 - val_accuracy: 0.9929\n",
      "Epoch 19/20\n",
      "37800/37800 [==============================] - 334s 9ms/sample - loss: 0.0071 - accuracy: 0.9978 - val_loss: 0.0464 - val_accuracy: 0.9921\n",
      "Epoch 20/20\n",
      "37800/37800 [==============================] - 311s 8ms/sample - loss: 0.0067 - accuracy: 0.9976 - val_loss: 0.0347 - val_accuracy: 0.9924\n"
     ]
    }
   ],
   "source": [
    "history = model.fit(train_X, train_Y, epochs = 20, validation_data = (val_X, val_Y))"
   ]
  },
  {
   "cell_type": "code",
   "execution_count": 19,
   "metadata": {},
   "outputs": [
    {
     "data": {
      "text/plain": [
       "<matplotlib.legend.Legend at 0x24800ffbd88>"
      ]
     },
     "execution_count": 19,
     "metadata": {},
     "output_type": "execute_result"
    },
    {
     "data": {
      "image/png": "[encoded data removed]",
      "text/plain": [
       "<Figure size 432x288 with 1 Axes>"
      ]
     },
     "metadata": {},
     "output_type": "display_data"
    }
   ],
   "source": [
    "plt.plot(history.history['accuracy'], color='b', label=\"Training accuracy\")\n",
    "plt.plot(history.history['val_accuracy'], color='r',label=\"Validation accuracy\")\n",
    "plt.legend(loc='best', shadow=True)"
   ]
  },
  {
   "cell_type": "code",
   "execution_count": 18,
   "metadata": {},
   "outputs": [
    {
     "name": "stdout",
     "output_type": "stream",
     "text": [
      "Train on 42000 samples, validate on 4200 samples\n",
      "Epoch 1/20\n",
      "42000/42000 [==============================] - 703s 17ms/sample - loss: 0.1245 - accuracy: 0.9634 - val_loss: 0.0609 - val_accuracy: 0.9824\n",
      "Epoch 2/20\n",
      "42000/42000 [==============================] - 639s 15ms/sample - loss: 0.0540 - accuracy: 0.9833 - val_loss: 0.0283 - val_accuracy: 0.9907\n",
      "Epoch 3/20\n",
      "42000/42000 [==============================] - 640s 15ms/sample - loss: 0.0420 - accuracy: 0.9875 - val_loss: 0.0609 - val_accuracy: 0.9826\n",
      "Epoch 4/20\n",
      "42000/42000 [==============================] - 680s 16ms/sample - loss: 0.0358 - accuracy: 0.9884 - val_loss: 0.0211 - val_accuracy: 0.9943\n",
      "Epoch 5/20\n",
      "42000/42000 [==============================] - 667s 16ms/sample - loss: 0.0290 - accuracy: 0.9913 - val_loss: 0.0249 - val_accuracy: 0.9905\n",
      "Epoch 6/20\n",
      "42000/42000 [==============================] - 644s 15ms/sample - loss: 0.0243 - accuracy: 0.9920 - val_loss: 0.0156 - val_accuracy: 0.9952\n",
      "Epoch 7/20\n",
      "42000/42000 [==============================] - 637s 15ms/sample - loss: 0.0204 - accuracy: 0.9935 - val_loss: 0.0233 - val_accuracy: 0.9919\n",
      "Epoch 8/20\n",
      "42000/42000 [==============================] - 638s 15ms/sample - loss: 0.0175 - accuracy: 0.9944 - val_loss: 0.0530 - val_accuracy: 0.9855\n",
      "Epoch 9/20\n",
      "42000/42000 [==============================] - 649s 15ms/sample - loss: 0.0175 - accuracy: 0.9944 - val_loss: 0.0163 - val_accuracy: 0.9940\n",
      "Epoch 10/20\n",
      "42000/42000 [==============================] - 642s 15ms/sample - loss: 0.0153 - accuracy: 0.9950 - val_loss: 0.1183 - val_accuracy: 0.9683\n",
      "Epoch 11/20\n",
      "42000/42000 [==============================] - 643s 15ms/sample - loss: 0.0120 - accuracy: 0.9965 - val_loss: 0.0144 - val_accuracy: 0.9957\n",
      "Epoch 12/20\n",
      "42000/42000 [==============================] - 639s 15ms/sample - loss: 0.0109 - accuracy: 0.9966 - val_loss: 0.0074 - val_accuracy: 0.9974\n",
      "Epoch 13/20\n",
      "42000/42000 [==============================] - 637s 15ms/sample - loss: 0.0109 - accuracy: 0.9965 - val_loss: 0.6169 - val_accuracy: 0.8864\n",
      "Epoch 14/20\n",
      "42000/42000 [==============================] - 664s 16ms/sample - loss: 0.0108 - accuracy: 0.9962 - val_loss: 0.0055 - val_accuracy: 0.9988\n",
      "Epoch 15/20\n",
      "42000/42000 [==============================] - 654s 16ms/sample - loss: 0.0085 - accuracy: 0.9971 - val_loss: 0.0083 - val_accuracy: 0.9974\n",
      "Epoch 16/20\n",
      "42000/42000 [==============================] - 644s 15ms/sample - loss: 0.0086 - accuracy: 0.9974 - val_loss: 0.0034 - val_accuracy: 0.9983\n",
      "Epoch 17/20\n",
      "42000/42000 [==============================] - 769s 18ms/sample - loss: 0.0074 - accuracy: 0.9974 - val_loss: 0.0054 - val_accuracy: 0.9976\n",
      "Epoch 18/20\n",
      "42000/42000 [==============================] - 656s 16ms/sample - loss: 0.0088 - accuracy: 0.9971 - val_loss: 0.0160 - val_accuracy: 0.9955\n",
      "Epoch 19/20\n",
      "42000/42000 [==============================] - 652s 16ms/sample - loss: 0.0046 - accuracy: 0.9985 - val_loss: 0.0015 - val_accuracy: 0.9995\n",
      "Epoch 20/20\n",
      "42000/42000 [==============================] - 370s 9ms/sample - loss: 0.0073 - accuracy: 0.9975 - val_loss: 0.0024 - val_accuracy: 0.9993\n"
     ]
    }
   ],
   "source": [
    "history = model.fit(X, Y, epochs = 20, validation_data = (val_X, val_Y))"
   ]
  },
  {
   "cell_type": "code",
   "execution_count": 19,
   "metadata": {},
   "outputs": [
    {
     "data": {
      "text/plain": [
       "<matplotlib.legend.Legend at 0x1ef82d75ec8>"
      ]
     },
     "execution_count": 19,
     "metadata": {},
     "output_type": "execute_result"
    },
    {
     "data": {
      "image/png": "[encoded data removed]",
      "text/plain": [
       "<Figure size 432x288 with 1 Axes>"
      ]
     },
     "metadata": {},
     "output_type": "display_data"
    }
   ],
   "source": [
    "plt.plot(history.history['accuracy'], color='b', label=\"Training accuracy\")\n",
    "plt.plot(history.history['val_accuracy'], color='r',label=\"Validation accuracy\")\n",
    "plt.legend(loc='best', shadow=True)"
   ]
  },
  {
   "cell_type": "code",
   "execution_count": 20,
   "metadata": {},
   "outputs": [],
   "source": [
    "y_predict = model.predict_classes(test)\n",
    "submissions=pd.DataFrame({\"ImageId\": list(range(1,len(y_predict)+1)),\n",
    "                         \"Label\": y_predict})\n",
    "submissions.to_csv(\"submission2.csv\", index=False, header=True)"
   ]
  },
  {
   "cell_type": "code",
   "execution_count": 21,
   "metadata": {},
   "outputs": [],
   "source": [
    "#Setting up our model\n",
    "#Model 1\n",
    "#Submission 4\n",
    "\n",
    "model = Sequential([\n",
    "    Conv2D(filters = 32, kernel_size = (4,4), activation = \"relu\", strides = (1,1), padding = \"same\", input_shape = (28, 28, 1)),\n",
    "    MaxPooling2D(pool_size = (2,2), padding = \"same\"),\n",
    "    Conv2D(filters = 64, kernel_size = (2,2), activation = \"relu\", strides = (1,1), padding = \"same\"),\n",
    "    MaxPooling2D(pool_size = (2,2), strides = (2,2)),\n",
    "    Flatten(),\n",
    "    Dense(64, activation = \"relu\"),\n",
    "    Dense(10, activation = \"softmax\"),\n",
    "])"
   ]
  },
  {
   "cell_type": "code",
   "execution_count": 22,
   "metadata": {},
   "outputs": [],
   "source": [
    "model.compile(optimizer = \"adam\", loss = \"categorical_crossentropy\", metrics = [\"accuracy\"])"
   ]
  },
  {
   "cell_type": "code",
   "execution_count": 23,
   "metadata": {},
   "outputs": [
    {
     "name": "stdout",
     "output_type": "stream",
     "text": [
      "Train on 42000 samples, validate on 4200 samples\n",
      "Epoch 1/20\n",
      "42000/42000 [==============================] - 71s 2ms/sample - loss: 0.1778 - accuracy: 0.9456 - val_loss: 0.0546 - val_accuracy: 0.9836\n",
      "Epoch 2/20\n",
      "42000/42000 [==============================] - 52s 1ms/sample - loss: 0.0537 - accuracy: 0.9833 - val_loss: 0.0337 - val_accuracy: 0.9893\n",
      "Epoch 3/20\n",
      "42000/42000 [==============================] - 52s 1ms/sample - loss: 0.0390 - accuracy: 0.9881 - val_loss: 0.0322 - val_accuracy: 0.9910\n",
      "Epoch 4/20\n",
      "42000/42000 [==============================] - 55s 1ms/sample - loss: 0.0284 - accuracy: 0.9906 - val_loss: 0.0249 - val_accuracy: 0.9924\n",
      "Epoch 5/20\n",
      "42000/42000 [==============================] - 56s 1ms/sample - loss: 0.0217 - accuracy: 0.9928 - val_loss: 0.0163 - val_accuracy: 0.9938\n",
      "Epoch 6/20\n",
      "42000/42000 [==============================] - 55s 1ms/sample - loss: 0.0171 - accuracy: 0.9942 - val_loss: 0.0082 - val_accuracy: 0.9971\n",
      "Epoch 7/20\n",
      "42000/42000 [==============================] - 56s 1ms/sample - loss: 0.0131 - accuracy: 0.9958 - val_loss: 0.0118 - val_accuracy: 0.9962\n",
      "Epoch 8/20\n",
      "42000/42000 [==============================] - 56s 1ms/sample - loss: 0.0113 - accuracy: 0.9960 - val_loss: 0.0113 - val_accuracy: 0.9967\n",
      "Epoch 9/20\n",
      "42000/42000 [==============================] - 55s 1ms/sample - loss: 0.0100 - accuracy: 0.9966 - val_loss: 0.0117 - val_accuracy: 0.9964\n",
      "Epoch 10/20\n",
      "42000/42000 [==============================] - 56s 1ms/sample - loss: 0.0084 - accuracy: 0.9972 - val_loss: 0.0040 - val_accuracy: 0.9983\n",
      "Epoch 11/20\n",
      "42000/42000 [==============================] - 56s 1ms/sample - loss: 0.0058 - accuracy: 0.9982 - val_loss: 0.0109 - val_accuracy: 0.9960\n",
      "Epoch 12/20\n",
      "42000/42000 [==============================] - 56s 1ms/sample - loss: 0.0062 - accuracy: 0.9978 - val_loss: 0.0036 - val_accuracy: 0.9990\n",
      "Epoch 13/20\n",
      "42000/42000 [==============================] - 57s 1ms/sample - loss: 0.0065 - accuracy: 0.9982 - val_loss: 0.0095 - val_accuracy: 0.9964\n",
      "Epoch 14/20\n",
      "42000/42000 [==============================] - 58s 1ms/sample - loss: 0.0055 - accuracy: 0.9979 - val_loss: 0.0058 - val_accuracy: 0.9976\n",
      "Epoch 15/20\n",
      "42000/42000 [==============================] - 56s 1ms/sample - loss: 0.0038 - accuracy: 0.9985 - val_loss: 0.0058 - val_accuracy: 0.9979\n",
      "Epoch 16/20\n",
      "42000/42000 [==============================] - 65s 2ms/sample - loss: 0.0044 - accuracy: 0.9986 - val_loss: 0.0039 - val_accuracy: 0.9986\n",
      "Epoch 17/20\n",
      "42000/42000 [==============================] - 56s 1ms/sample - loss: 0.0039 - accuracy: 0.9989 - val_loss: 0.0013 - val_accuracy: 0.9998\n",
      "Epoch 18/20\n",
      "42000/42000 [==============================] - 57s 1ms/sample - loss: 0.0031 - accuracy: 0.9989 - val_loss: 0.0134 - val_accuracy: 0.9960\n",
      "Epoch 19/20\n",
      "42000/42000 [==============================] - 56s 1ms/sample - loss: 0.0054 - accuracy: 0.9983 - val_loss: 0.0087 - val_accuracy: 0.9976\n",
      "Epoch 20/20\n",
      "42000/42000 [==============================] - 56s 1ms/sample - loss: 0.0029 - accuracy: 0.9990 - val_loss: 0.0061 - val_accuracy: 0.9981\n"
     ]
    }
   ],
   "source": [
    "history = model.fit(X, Y, epochs = 20, validation_data = (val_X, val_Y))"
   ]
  },
  {
   "cell_type": "code",
   "execution_count": 24,
   "metadata": {},
   "outputs": [
    {
     "data": {
      "text/plain": [
       "<matplotlib.legend.Legend at 0x1ef83248d48>"
      ]
     },
     "execution_count": 24,
     "metadata": {},
     "output_type": "execute_result"
    },
    {
     "data": {
      "image/png": "[encoded data removed]",
      "text/plain": [
       "<Figure size 432x288 with 1 Axes>"
      ]
     },
     "metadata": {},
     "output_type": "display_data"
    }
   ],
   "source": [
    "plt.plot(history.history['accuracy'], color='b', label=\"Training accuracy\")\n",
    "plt.plot(history.history['val_accuracy'], color='r',label=\"Validation accuracy\")\n",
    "plt.legend(loc='best', shadow=True)"
   ]
  },
  {
   "cell_type": "code",
   "execution_count": 25,
   "metadata": {},
   "outputs": [],
   "source": [
    "y_predict = model.predict_classes(test)\n",
    "submissions=pd.DataFrame({\"ImageId\": list(range(1,len(y_predict)+1)),\n",
    "                         \"Label\": y_predict})\n",
    "submissions.to_csv(\"submission3.csv\", index=False, header=True)"
   ]
  },
  {
   "cell_type": "code",
   "execution_count": 26,
   "metadata": {},
   "outputs": [],
   "source": [
    "#Setting up our model\n",
    "#Model 1\n",
    "model = Sequential([\n",
    "    Conv2D(filters = 32, kernel_size = (4,4), activation = \"relu\", strides = (1,1), padding = \"same\", input_shape = (28, 28, 1)),\n",
    "    MaxPooling2D(pool_size = (2,2), padding = \"same\"),\n",
    "    Dropout(0.25),\n",
    "    Conv2D(filters = 64, kernel_size = (2,2), activation = \"relu\", strides = (1,1), padding = \"same\"),\n",
    "    MaxPooling2D(pool_size = (2,2), strides = (2,2)),\n",
    "    Flatten(),\n",
    "    Dense(512, activation = \"relu\"),\n",
    "    Dropout(0.25),\n",
    "    Dense(10, activation = \"softmax\"),\n",
    "])"
   ]
  },
  {
   "cell_type": "code",
   "execution_count": 27,
   "metadata": {},
   "outputs": [],
   "source": [
    "model.compile(optimizer = \"adam\", loss = \"categorical_crossentropy\", metrics = [\"accuracy\"])"
   ]
  },
  {
   "cell_type": "code",
   "execution_count": null,
   "metadata": {},
   "outputs": [
    {
     "name": "stdout",
     "output_type": "stream",
     "text": [
      "Train on 42000 samples\n",
      "Epoch 1/20\n",
      " 7296/42000 [====>.........................] - ETA: 2:16 - loss: 0.4852 - accuracy: 0.8464"
     ]
    }
   ],
   "source": [
    "history = model.fit(X, Y, epochs history = model.fit(X, Y, epochs = 20, validation_data = (val_X, val_Y))= 20)"
   ]
  },
  {
   "cell_type": "code",
   "execution_count": null,
   "metadata": {},
   "outputs": [],
   "source": []
  }
 ],
 "metadata": {
  "kernelspec": {
   "display_name": "Python [conda env:tensorflow]",
   "language": "python",
   "name": "conda-env-tensorflow-py"
  },
  "language_info": {
   "codemirror_mode": {
    "name": "ipython",
    "version": 3
   },
   "file_extension": ".py",
   "mimetype": "text/x-python",
   "name": "python",
   "nbconvert_exporter": "python",
   "pygments_lexer": "ipython3",
   "version": "3.7.4"
  }
 },
 "nbformat": 4,
 "nbformat_minor": 2
}
